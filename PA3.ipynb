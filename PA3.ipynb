{
 "cells": [
  {
   "cell_type": "markdown",
   "id": "7482cff2",
   "metadata": {},
   "source": [
    "# Programming Assignment 3\n",
    "## Noah Clark\n",
    "### Version 1\n",
    "#### CS 150-02"
   ]
  },
  {
   "cell_type": "code",
   "execution_count": 1,
   "id": "756faf32",
   "metadata": {},
   "outputs": [
    {
     "name": "stdout",
     "output_type": "stream",
     "text": [
      "Enter the length of side A: 15\n",
      "Enter the length of side B: 15\n",
      "Enter the length of side C: 15\n",
      "The area of the triangle is approximately 97.42785792574935\n",
      "The perimeter of the triangle is 45\n"
     ]
    }
   ],
   "source": [
    "import statistics as stats\n",
    "a=int(input(\"Enter the length of side A: \"))\n",
    "b=int(input(\"Enter the length of side B: \"))\n",
    "c=int(input(\"Enter the length of side C: \"))\n",
    "def calcArea():\n",
    "    s=(a+b+c)/2\n",
    "    x=s*(s-a)*(s-b)*(s-c)\n",
    "    area=stats.sqrt(x)\n",
    "    return area\n",
    "def calcPerimeter():\n",
    "    perim=a+b+c\n",
    "    return perim\n",
    "print(\"The area of the triangle is approximately\", calcArea())\n",
    "print(\"The perimeter of the triangle is\", calcPerimeter())"
   ]
  },
  {
   "cell_type": "code",
   "execution_count": 21,
   "id": "045ad1da",
   "metadata": {},
   "outputs": [
    {
     "name": "stdout",
     "output_type": "stream",
     "text": [
      "Guess the number between 1 and 1000: 500\n",
      "Too high! Guess again!\n",
      "Guess the number between 1 and 1000: 300\n",
      "Too high! Guess again!\n",
      "Guess the number between 1 and 1000: 150\n",
      "Too low! Guess again!\n",
      "Guess the number between 1 and 1000: 200\n",
      "Too low! Guess again!\n",
      "Guess the number between 1 and 1000: 250\n",
      "Too low! Guess again!\n",
      "Guess the number between 1 and 1000: 275\n",
      "Too low! Guess again!\n",
      "Guess the number between 1 and 1000: 285\n",
      "Too high! Guess again!\n",
      "Guess the number between 1 and 1000: 280\n",
      "Too high! Guess again!\n",
      "Guess the number between 1 and 1000: 278\n",
      "Too low! Guess again!\n",
      "Guess the number between 1 and 1000: 279\n",
      "Correct!\n"
     ]
    }
   ],
   "source": [
    "import random\n",
    "number=random.randint(1,1000)\n",
    "guess=None\n",
    "while guess!=number:\n",
    "    guess=int(input(\"Guess the number between 1 and 1000: \"))\n",
    "    if guess>number:\n",
    "        print(\"Too high! Guess again!\")\n",
    "    elif guess<number:\n",
    "        print(\"Too low! Guess again!\")\n",
    "    else:\n",
    "        print(\"Correct!\")"
   ]
  },
  {
   "cell_type": "code",
   "execution_count": 22,
   "id": "93cf9520",
   "metadata": {},
   "outputs": [
    {
     "name": "stdout",
     "output_type": "stream",
     "text": [
      "The mean temperature for the past 7 days is 67.85714285714286\n",
      "The mean temperature for the past 5 days is 66.4\n",
      "The mean temperature for the past 2 days is 65.5\n"
     ]
    }
   ],
   "source": [
    "def meanTemp(*args):\n",
    "    return sum(args)/len(args)\n",
    "print(\"The mean temperature for the past 7 days is\", meanTemp(60,71,56,78,67,73,70))\n",
    "print(\"The mean temperature for the past 5 days is\", meanTemp(60,71,56,78,67))\n",
    "print(\"The mean temperature for the past 2 days is\", meanTemp(60,71))"
   ]
  }
 ],
 "metadata": {
  "kernelspec": {
   "display_name": "Python 3",
   "language": "python",
   "name": "python3"
  },
  "language_info": {
   "codemirror_mode": {
    "name": "ipython",
    "version": 3
   },
   "file_extension": ".py",
   "mimetype": "text/x-python",
   "name": "python",
   "nbconvert_exporter": "python",
   "pygments_lexer": "ipython3",
   "version": "3.8.8"
  }
 },
 "nbformat": 4,
 "nbformat_minor": 5
}
